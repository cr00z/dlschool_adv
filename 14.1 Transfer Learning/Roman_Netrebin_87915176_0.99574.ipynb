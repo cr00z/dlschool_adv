{
 "cells": [
  {
   "cell_type": "markdown",
   "metadata": {},
   "source": [
    "# The Simpsons"
   ]
  },
  {
   "cell_type": "markdown",
   "metadata": {},
   "source": [
    "![The Simpsons](https://upload.wikimedia.org/wikipedia/ru/4/42/Simpsons_cast.jpg)"
   ]
  },
  {
   "cell_type": "code",
   "execution_count": 1,
   "metadata": {
    "_cell_guid": "b1076dfc-b9ad-4769-8c92-a6c4dae69d19",
    "_uuid": "8f2839f25d086af736a60e9eeb907d3b93b6e0e5",
    "execution": {
     "iopub.execute_input": "2021-11-14T03:01:31.211471Z",
     "iopub.status.busy": "2021-11-14T03:01:31.211085Z",
     "iopub.status.idle": "2021-11-14T03:01:32.030393Z",
     "shell.execute_reply": "2021-11-14T03:01:32.029658Z",
     "shell.execute_reply.started": "2021-11-14T03:01:31.211400Z"
    }
   },
   "outputs": [],
   "source": [
    "import os\n",
    "import numpy as np\n",
    "import pandas as pd\n",
    "import torch\n",
    "import torch.nn as nn\n",
    "import torchvision\n",
    "import torchvision.transforms as tfs\n",
    "import matplotlib.pyplot as plt\n",
    "from tqdm.notebook import tqdm\n",
    "from sklearn.model_selection import train_test_split\n",
    "from sklearn.metrics import f1_score"
   ]
  },
  {
   "cell_type": "markdown",
   "metadata": {},
   "source": [
    "# Load dataf1_score"
   ]
  },
  {
   "cell_type": "code",
   "execution_count": 2,
   "metadata": {
    "execution": {
     "iopub.execute_input": "2021-11-14T03:01:32.036066Z",
     "iopub.status.busy": "2021-11-14T03:01:32.035571Z",
     "iopub.status.idle": "2021-11-14T03:01:32.040343Z",
     "shell.execute_reply": "2021-11-14T03:01:32.039631Z",
     "shell.execute_reply.started": "2021-11-14T03:01:32.036027Z"
    }
   },
   "outputs": [],
   "source": [
    "# for dirname, _, filenames in os.walk('/kaggle/input'):\n",
    "#     print('{} CONTAINS {} files'.format(dirname, len(filenames)))"
   ]
  },
  {
   "cell_type": "code",
   "execution_count": 3,
   "metadata": {
    "execution": {
     "iopub.execute_input": "2021-11-14T03:01:32.042200Z",
     "iopub.status.busy": "2021-11-14T03:01:32.041702Z",
     "iopub.status.idle": "2021-11-14T03:01:32.085374Z",
     "shell.execute_reply": "2021-11-14T03:01:32.084578Z",
     "shell.execute_reply.started": "2021-11-14T03:01:32.042162Z"
    }
   },
   "outputs": [],
   "source": [
    "input_dir = '/kaggle/input/journey-springfield/train/simpsons_dataset/'\n",
    "rescale_size = 244\n",
    "batch_size = 32 # 32 - resnet152. 64 - all another\n",
    "# Imagenet mean and standard (are calculated from all of images)\n",
    "imagenet_mean = np.array([0.485, 0.456, 0.406])\n",
    "imagenet_std = np.array([0.229, 0.224, 0.225])\n",
    "DEVICE = torch.device('cuda') if torch.cuda.is_available() else torch.device('cpu')"
   ]
  },
  {
   "cell_type": "code",
   "execution_count": 4,
   "metadata": {
    "execution": {
     "iopub.execute_input": "2021-11-14T03:01:32.088458Z",
     "iopub.status.busy": "2021-11-14T03:01:32.088206Z",
     "iopub.status.idle": "2021-11-14T03:01:32.939733Z",
     "shell.execute_reply": "2021-11-14T03:01:32.938959Z",
     "shell.execute_reply.started": "2021-11-14T03:01:32.088418Z"
    }
   },
   "outputs": [
    {
     "name": "stdout",
     "output_type": "stream",
     "text": [
      "classes: ['abraham_grampa_simpson' 'agnes_skinner' 'apu_nahasapeemapetilon'\n",
      " 'barney_gumble' 'bart_simpson' 'carl_carlson' 'charles_montgomery_burns'\n",
      " 'chief_wiggum' 'cletus_spuckler' 'comic_book_guy' 'disco_stu'\n",
      " 'edna_krabappel' 'fat_tony' 'gil' 'groundskeeper_willie' 'homer_simpson'\n",
      " 'kent_brockman' 'krusty_the_clown' 'lenny_leonard' 'lionel_hutz'\n",
      " 'lisa_simpson' 'maggie_simpson' 'marge_simpson' 'martin_prince'\n",
      " 'mayor_quimby' 'milhouse_van_houten' 'miss_hoover' 'moe_szyslak'\n",
      " 'ned_flanders' 'nelson_muntz' 'otto_mann' 'patty_bouvier'\n",
      " 'principal_skinner' 'professor_john_frink' 'rainier_wolfcastle'\n",
      " 'ralph_wiggum' 'selma_bouvier' 'sideshow_bob' 'sideshow_mel'\n",
      " 'snake_jailbird' 'troy_mcclure' 'waylon_smithers'] \n",
      "size {'train': 16746, 'valid': 4187}\n"
     ]
    }
   ],
   "source": [
    "transform = tfs.Compose([\n",
    "    tfs.Resize((int(rescale_size * 1.25), int(rescale_size * 1.25))),\n",
    "    tfs.RandomCrop(rescale_size),\n",
    "    tfs.RandomHorizontalFlip(),\n",
    "    tfs.ToTensor(),\n",
    "    tfs.Normalize(imagenet_mean, imagenet_std)\n",
    "])\n",
    "\n",
    "dataset_full = torchvision.datasets.ImageFolder(root=input_dir, transform=transform)\n",
    "\n",
    "# split full dataset\n",
    "train_idx, valid_idx = train_test_split(list(range(len(dataset_full))), train_size=0.8)\n",
    "dataset = {\n",
    "    'train': torch.utils.data.Subset(dataset_full, train_idx),\n",
    "    'valid': torch.utils.data.Subset(dataset_full, valid_idx)\n",
    "}\n",
    "\n",
    "dataset_size = {ds: len(dataset[ds]) for ds in ['train', 'valid']}\n",
    "dataset_classes = np.array(dataset_full.classes)\n",
    "print('classes:', dataset_classes, '\\nsize', dataset_size)\n",
    "\n",
    "dataloader = {\n",
    "    'train': torch.utils.data.DataLoader(\n",
    "        dataset=dataset['train'], batch_size=batch_size, shuffle=True, num_workers=2\n",
    "    ),\n",
    "    'valid': torch.utils.data.DataLoader(\n",
    "        dataset=dataset['valid'], batch_size=batch_size, shuffle=False, num_workers=2\n",
    "    ),\n",
    "}"
   ]
  },
  {
   "cell_type": "code",
   "execution_count": 5,
   "metadata": {
    "execution": {
     "iopub.execute_input": "2021-11-14T03:01:32.941546Z",
     "iopub.status.busy": "2021-11-14T03:01:32.940914Z",
     "iopub.status.idle": "2021-11-14T03:01:32.956856Z",
     "shell.execute_reply": "2021-11-14T03:01:32.956187Z",
     "shell.execute_reply.started": "2021-11-14T03:01:32.941505Z"
    }
   },
   "outputs": [],
   "source": [
    "transform = tfs.Compose([\n",
    "    tfs.Resize((int(rescale_size * 1.05), int(rescale_size * 1.05))),\n",
    "    tfs.CenterCrop(rescale_size),\n",
    "    tfs.ToTensor(),\n",
    "    tfs.Normalize(imagenet_mean, imagenet_std)\n",
    "])\n",
    "dataset_test = torchvision.datasets.ImageFolder(\n",
    "    root='/kaggle/input/journey-springfield/testset',\n",
    "    transform=transform\n",
    ")\n",
    "dataloader_test = torch.utils.data.DataLoader(dataset_test, shuffle=False, batch_size=batch_size)\n",
    "test_filenames = [fn[0].split('/')[-1] for fn in dataset_test.imgs]"
   ]
  },
  {
   "cell_type": "markdown",
   "metadata": {},
   "source": [
    "# Show some data"
   ]
  },
  {
   "cell_type": "code",
   "execution_count": 6,
   "metadata": {
    "execution": {
     "iopub.execute_input": "2021-11-14T03:01:32.958444Z",
     "iopub.status.busy": "2021-11-14T03:01:32.958143Z",
     "iopub.status.idle": "2021-11-14T03:01:32.964227Z",
     "shell.execute_reply": "2021-11-14T03:01:32.963142Z",
     "shell.execute_reply.started": "2021-11-14T03:01:32.958407Z"
    }
   },
   "outputs": [],
   "source": [
    "def get_batches(dataloader, num_of_batches=1):\n",
    "    assert(num_of_batches > 0)\n",
    "    images, classes = next(iter(dataloader))\n",
    "    for _ in range(num_of_batches - 1):\n",
    "        image_batch, cls_batch = next(iter(dataloader))\n",
    "        images = torch.cat([images, image_batch], dim=0)\n",
    "        classes = torch.cat([classes, cls_batch], dim=0)\n",
    "    return images, classes"
   ]
  },
  {
   "cell_type": "code",
   "execution_count": 7,
   "metadata": {
    "execution": {
     "iopub.execute_input": "2021-11-14T03:01:32.966003Z",
     "iopub.status.busy": "2021-11-14T03:01:32.965724Z",
     "iopub.status.idle": "2021-11-14T03:01:32.976093Z",
     "shell.execute_reply": "2021-11-14T03:01:32.975316Z",
     "shell.execute_reply.started": "2021-11-14T03:01:32.965967Z"
    }
   },
   "outputs": [],
   "source": [
    "def show_batches(images, classes):\n",
    "    imagenet_mean = np.array([0.485, 0.456, 0.406])\n",
    "    imagenet_std = np.array([0.229, 0.224, 0.225])\n",
    "    cols = (images.shape[0] + 3) // 4\n",
    "    images = images.numpy().transpose(0,2,3,1)\n",
    "    images = images * imagenet_std + imagenet_mean\n",
    "    fig, axes = plt.subplots(cols, 4, figsize=(12, cols * 3))\n",
    "    for ax, img, img_cls in zip(axes.flatten(), images, classes.numpy()):\n",
    "        ax.imshow(img)\n",
    "        ax.set_xticks([])\n",
    "        ax.set_xlabel(dataset_classes[img_cls], fontsize=16)\n",
    "    plt.tight_layout()\n",
    "    plt.show()"
   ]
  },
  {
   "cell_type": "code",
   "execution_count": 8,
   "metadata": {
    "execution": {
     "iopub.execute_input": "2021-11-14T03:01:32.977911Z",
     "iopub.status.busy": "2021-11-14T03:01:32.977640Z",
     "iopub.status.idle": "2021-11-14T03:01:32.986472Z",
     "shell.execute_reply": "2021-11-14T03:01:32.985683Z",
     "shell.execute_reply.started": "2021-11-14T03:01:32.977874Z"
    }
   },
   "outputs": [],
   "source": [
    "# images, classes = get_batches(dataloader['train'])\n",
    "# show_batches(images, classes)"
   ]
  },
  {
   "cell_type": "markdown",
   "metadata": {},
   "source": [
    "# Fit functions"
   ]
  },
  {
   "cell_type": "code",
   "execution_count": 9,
   "metadata": {
    "execution": {
     "iopub.execute_input": "2021-11-14T03:01:32.988380Z",
     "iopub.status.busy": "2021-11-14T03:01:32.987887Z",
     "iopub.status.idle": "2021-11-14T03:01:33.002650Z",
     "shell.execute_reply": "2021-11-14T03:01:33.001954Z",
     "shell.execute_reply.started": "2021-11-14T03:01:32.988333Z"
    }
   },
   "outputs": [],
   "source": [
    "def train_model(\n",
    "    model: torch.nn.Module,\n",
    "    criterion: torch.nn.Module,\n",
    "    optimizer: torch.nn.Module,\n",
    "    sheduler: torch.nn.Module,\n",
    "    epochs: int = 10\n",
    ") -> (torch.nn.Module, dict):\n",
    "    r\"\"\"Training the model. Returns best model, dictionary of train and validation losses, dictionary of train and validation accuracies.\n",
    "    Args:\n",
    "        model (torch.nn.Module): Neural network\n",
    "        criterion (torch.nn.Module): Cost function\n",
    "        optimizer (torch.nn.Module): Optimization algorithm\n",
    "        sheduler (torch.nn.Module): Learning rate change policy\n",
    "        epochs (int): Number of training iterations. Default: 25\n",
    "    \"\"\"\n",
    "    \n",
    "    losses = {'train': [], 'valid': []}\n",
    "    accuracies = {'train': [], 'valid': []}\n",
    "    best_model_weights = model.state_dict()\n",
    "    best_accuracy = 0.\n",
    "    progress = tqdm(range(epochs), desc='Epoch:')\n",
    "    \n",
    "    for epoch in progress:\n",
    "        for phase in ['train', 'valid']:\n",
    "            loss_accum = 0.\n",
    "            corr_accum = 0\n",
    "            model.train(mode=(phase == 'train'))\n",
    "            \n",
    "            for inputs, labels in tqdm(dataloader[phase], desc=f'Phase {phase}:'):\n",
    "                inputs = inputs.to(DEVICE)\n",
    "                labels = labels.to(DEVICE)\n",
    "            \n",
    "                if phase == 'train':\n",
    "                    optimizer.zero_grad()\n",
    "                    outp = model(inputs)\n",
    "                    loss = criterion(outp, labels)\n",
    "                    loss.backward()\n",
    "                    optimizer.step()\n",
    "                else:\n",
    "                    with torch.no_grad():\n",
    "                        outp = model(inputs)\n",
    "                        loss = criterion(outp, labels)\n",
    "                \n",
    "                preds = torch.argmax(outp, -1)\n",
    "                loss_accum += loss.item()\n",
    "                corr_accum += (preds == labels.data).sum()\n",
    "\n",
    "            if phase == 'train':\n",
    "                sheduler.step()\n",
    "                \n",
    "            epoch_loss = loss_accum / dataset_size[phase]\n",
    "            epoch_accuracy = corr_accum / dataset_size[phase]\n",
    "            losses[phase].append(epoch_loss)\n",
    "            accuracies[phase].append(epoch_accuracy)\n",
    "            progress.set_description('loss: {:.4f}, acc: {:.4f}'.format(epoch_loss, epoch_accuracy))\n",
    "            if phase == 'valid' and epoch_accuracy > best_accuracy:\n",
    "                best_accuracy = epoch_accuracy\n",
    "                best_model_weights = model.state_dict()\n",
    "    \n",
    "    model.load_state_dict(best_model_weights)\n",
    "    return model, losses, accuracies"
   ]
  },
  {
   "cell_type": "code",
   "execution_count": 10,
   "metadata": {
    "execution": {
     "iopub.execute_input": "2021-11-14T03:01:33.005261Z",
     "iopub.status.busy": "2021-11-14T03:01:33.005024Z",
     "iopub.status.idle": "2021-11-14T03:01:33.013923Z",
     "shell.execute_reply": "2021-11-14T03:01:33.013222Z",
     "shell.execute_reply.started": "2021-11-14T03:01:33.005237Z"
    }
   },
   "outputs": [],
   "source": [
    "def show_metrics(metrics):\n",
    "    plt.figure(figsize=(12, 8))\n",
    "    plt.plot(metrics['train'], label='train')\n",
    "    plt.plot(metrics['valid'], label='val')\n",
    "    plt.grid()\n",
    "    plt.legend()\n",
    "    plt.show()"
   ]
  },
  {
   "cell_type": "code",
   "execution_count": 11,
   "metadata": {
    "execution": {
     "iopub.execute_input": "2021-11-14T03:01:33.015571Z",
     "iopub.status.busy": "2021-11-14T03:01:33.015111Z",
     "iopub.status.idle": "2021-11-14T03:01:33.024271Z",
     "shell.execute_reply": "2021-11-14T03:01:33.023458Z",
     "shell.execute_reply.started": "2021-11-14T03:01:33.015534Z"
    }
   },
   "outputs": [],
   "source": [
    "def show_metrics_all(losses, accuracies):\n",
    "    def show_ax(ax_idx, metric, title):\n",
    "        axes[ax_idx].plot(metric['train'], label='train')\n",
    "        axes[ax_idx].plot(metric['valid'], label='valid')\n",
    "        axes[ax_idx].grid()\n",
    "        axes[ax_idx].legend()\n",
    "        axes[ax_idx].set_title(title)\n",
    "\n",
    "    fig, axes = plt.subplots(1, 2, figsize=(20, 8))\n",
    "    show_ax(0, losses, 'loss')\n",
    "    show_ax(1, accuracies, 'accuracy')\n",
    "    plt.show()"
   ]
  },
  {
   "cell_type": "markdown",
   "metadata": {},
   "source": [
    "# Predict functions"
   ]
  },
  {
   "cell_type": "code",
   "execution_count": 12,
   "metadata": {
    "execution": {
     "iopub.execute_input": "2021-11-14T03:01:33.025707Z",
     "iopub.status.busy": "2021-11-14T03:01:33.025408Z",
     "iopub.status.idle": "2021-11-14T03:01:33.032706Z",
     "shell.execute_reply": "2021-11-14T03:01:33.031815Z",
     "shell.execute_reply.started": "2021-11-14T03:01:33.025667Z"
    }
   },
   "outputs": [],
   "source": [
    "def predict(model, dataloader_test):\n",
    "    logits = []\n",
    "    model.eval()\n",
    "    with torch.no_grad():\n",
    "        for inputs, _ in tqdm(dataloader_test):\n",
    "            inputs = inputs.to(DEVICE)\n",
    "            outputs = model(inputs).cpu()\n",
    "            logits.append(outputs)\n",
    "    probs = nn.functional.softmax(torch.cat(logits), dim=-1).numpy()\n",
    "    return probs"
   ]
  },
  {
   "cell_type": "code",
   "execution_count": 13,
   "metadata": {
    "execution": {
     "iopub.execute_input": "2021-11-14T03:01:33.037277Z",
     "iopub.status.busy": "2021-11-14T03:01:33.036905Z",
     "iopub.status.idle": "2021-11-14T03:01:33.044524Z",
     "shell.execute_reply": "2021-11-14T03:01:33.043795Z",
     "shell.execute_reply.started": "2021-11-14T03:01:33.037239Z"
    }
   },
   "outputs": [],
   "source": [
    "def predict_to_submission(model, dataloader_test=dataloader_test, test_filenames=test_filenames, dataset_classes=dataset_classes):\n",
    "    probs = predict(model, dataloader_test)\n",
    "    print(probs.shape)\n",
    "    predictions = np.argmax(probs, axis=1)\n",
    "    preds = dataset_classes[predictions]\n",
    "    submission = pd.read_csv('/kaggle/input/journey-springfield/sample_submission.csv')\n",
    "    submission = pd.DataFrame({'Id': test_filenames, 'Expected': preds}).sort_values('Id')\n",
    "    submission.to_csv('./submission.csv', index=False)"
   ]
  },
  {
   "cell_type": "markdown",
   "metadata": {},
   "source": [
    "# Simple Model"
   ]
  },
  {
   "cell_type": "code",
   "execution_count": 14,
   "metadata": {
    "execution": {
     "iopub.execute_input": "2021-11-14T03:01:33.047802Z",
     "iopub.status.busy": "2021-11-14T03:01:33.046395Z",
     "iopub.status.idle": "2021-11-14T03:01:33.054137Z",
     "shell.execute_reply": "2021-11-14T03:01:33.053342Z",
     "shell.execute_reply.started": "2021-11-14T03:01:33.047759Z"
    }
   },
   "outputs": [],
   "source": [
    "# class SimpleCNN(nn.Module):\n",
    "    \n",
    "#     def __init__(self, n_classes):\n",
    "#         super().__init__()\n",
    "#         self.conv1 = nn.Sequential(\n",
    "#             nn.Conv2d(in_channels=3, out_channels=8, kernel_size=3),\n",
    "#             nn.ReLU(),\n",
    "#             nn.MaxPool2d(kernel_size=2)\n",
    "#         )\n",
    "#         self.conv2 = nn.Sequential(\n",
    "#             nn.Conv2d(in_channels=8, out_channels=16, kernel_size=3),\n",
    "#             nn.ReLU(),\n",
    "#             nn.MaxPool2d(kernel_size=2)\n",
    "#         )\n",
    "#         self.conv3 = nn.Sequential(\n",
    "#             nn.Conv2d(in_channels=16, out_channels=32, kernel_size=3),\n",
    "#             nn.ReLU(),\n",
    "#             nn.MaxPool2d(kernel_size=2)\n",
    "#         )\n",
    "#         self.conv4 = nn.Sequential(\n",
    "#             nn.Conv2d(in_channels=32, out_channels=64, kernel_size=3),\n",
    "#             nn.ReLU(),\n",
    "#             nn.MaxPool2d(kernel_size=2)\n",
    "#         )\n",
    "#         self.conv5 = nn.Sequential(\n",
    "#             nn.Conv2d(in_channels=64, out_channels=96, kernel_size=3),\n",
    "#             nn.ReLU(),\n",
    "#             nn.MaxPool2d(kernel_size=2)\n",
    "#         )\n",
    "#         self.out = nn.Linear(96 * 5 * 5, n_classes)\n",
    "    \n",
    "#     def forward(self, x):\n",
    "#         x = self.conv1(x)\n",
    "#         x = self.conv2(x)\n",
    "#         x = self.conv3(x)\n",
    "#         x = self.conv4(x)\n",
    "#         x = self.conv5(x)\n",
    "#         x = x.view(x.size(0), -1)\n",
    "#         logits = self.out(x)\n",
    "#         return logits"
   ]
  },
  {
   "cell_type": "code",
   "execution_count": 15,
   "metadata": {
    "execution": {
     "iopub.execute_input": "2021-11-14T03:01:33.056225Z",
     "iopub.status.busy": "2021-11-14T03:01:33.055195Z",
     "iopub.status.idle": "2021-11-14T03:01:33.064575Z",
     "shell.execute_reply": "2021-11-14T03:01:33.063903Z",
     "shell.execute_reply.started": "2021-11-14T03:01:33.056183Z"
    }
   },
   "outputs": [],
   "source": [
    "# model_scnn = SimpleCNN(len(dataset_full.classes))\n",
    "# model"
   ]
  },
  {
   "cell_type": "code",
   "execution_count": 16,
   "metadata": {
    "execution": {
     "iopub.execute_input": "2021-11-14T03:01:33.066150Z",
     "iopub.status.busy": "2021-11-14T03:01:33.065634Z",
     "iopub.status.idle": "2021-11-14T03:01:33.072436Z",
     "shell.execute_reply": "2021-11-14T03:01:33.071606Z",
     "shell.execute_reply.started": "2021-11-14T03:01:33.066108Z"
    }
   },
   "outputs": [],
   "source": [
    "# model.to(DEVICE)\n",
    "# loss = torch.nn.CrossEntropyLoss()\n",
    "# optimizer = torch.optim.Adam(model.parameters(), lr=1e-4)\n",
    "# sheduler = torch.optim.lr_scheduler.StepLR(optimizer, step_size=7, gamma=0.1)\n",
    "# model, losses, accuracies = train_model(model, loss, optimizer, sheduler)\n",
    "# show_metrics_all(losses, accuracies)\n",
    "# predict_to_submission(model)"
   ]
  },
  {
   "cell_type": "markdown",
   "metadata": {},
   "source": [
    "# AlexNet"
   ]
  },
  {
   "cell_type": "code",
   "execution_count": 17,
   "metadata": {
    "execution": {
     "iopub.execute_input": "2021-11-14T03:01:33.076543Z",
     "iopub.status.busy": "2021-11-14T03:01:33.075191Z",
     "iopub.status.idle": "2021-11-14T03:01:33.081272Z",
     "shell.execute_reply": "2021-11-14T03:01:33.080457Z",
     "shell.execute_reply.started": "2021-11-14T03:01:33.076481Z"
    }
   },
   "outputs": [],
   "source": [
    "# model_alexnet = torchvision.models.alexnet(pretrained=True)"
   ]
  },
  {
   "cell_type": "code",
   "execution_count": 18,
   "metadata": {
    "execution": {
     "iopub.execute_input": "2021-11-14T03:01:33.083041Z",
     "iopub.status.busy": "2021-11-14T03:01:33.082725Z",
     "iopub.status.idle": "2021-11-14T03:01:33.087735Z",
     "shell.execute_reply": "2021-11-14T03:01:33.086966Z",
     "shell.execute_reply.started": "2021-11-14T03:01:33.082978Z"
    }
   },
   "outputs": [],
   "source": [
    "# for param in model_alexnet.features.parameters():\n",
    "#     param.requires_grad = False\n",
    "# num_in_features = 4096\n",
    "# num_out_features = len(dataset_full.classes)\n",
    "# model_alexnet.classifier[6] = nn.Linear(in_features=num_in_features, out_features=num_out_features, bias=True)\n",
    "# # for param in model_alexnet.parameters():\n",
    "# #     print(param.requires_grad)\n",
    "# model_alexnet"
   ]
  },
  {
   "cell_type": "code",
   "execution_count": 19,
   "metadata": {
    "execution": {
     "iopub.execute_input": "2021-11-14T03:01:33.090173Z",
     "iopub.status.busy": "2021-11-14T03:01:33.089156Z",
     "iopub.status.idle": "2021-11-14T03:01:33.096930Z",
     "shell.execute_reply": "2021-11-14T03:01:33.096049Z",
     "shell.execute_reply.started": "2021-11-14T03:01:33.090092Z"
    }
   },
   "outputs": [],
   "source": [
    "# model_alexnet.to(DEVICE)\n",
    "# loss = torch.nn.CrossEntropyLoss()\n",
    "# optimizer = torch.optim.AdamW(model_alexnet.parameters(), lr=1e-3)\n",
    "# sheduler = torch.optim.lr_scheduler.StepLR(optimizer, step_size=7, gamma=0.1)\n",
    "# model_alexnet, losses, accuracies = train_model(model_alexnet, loss, optimizer, sheduler)"
   ]
  },
  {
   "cell_type": "code",
   "execution_count": 20,
   "metadata": {
    "execution": {
     "iopub.execute_input": "2021-11-14T03:01:33.098962Z",
     "iopub.status.busy": "2021-11-14T03:01:33.098174Z",
     "iopub.status.idle": "2021-11-14T03:01:33.104637Z",
     "shell.execute_reply": "2021-11-14T03:01:33.103925Z",
     "shell.execute_reply.started": "2021-11-14T03:01:33.098924Z"
    }
   },
   "outputs": [],
   "source": [
    "# show_metrics_all(losses, accuracies)"
   ]
  },
  {
   "cell_type": "code",
   "execution_count": 21,
   "metadata": {
    "execution": {
     "iopub.execute_input": "2021-11-14T03:01:33.107982Z",
     "iopub.status.busy": "2021-11-14T03:01:33.105502Z",
     "iopub.status.idle": "2021-11-14T03:01:33.112712Z",
     "shell.execute_reply": "2021-11-14T03:01:33.112003Z",
     "shell.execute_reply.started": "2021-11-14T03:01:33.107858Z"
    }
   },
   "outputs": [],
   "source": [
    "# predict_to_submission(model_alexnet)"
   ]
  },
  {
   "cell_type": "markdown",
   "metadata": {},
   "source": [
    "# Inception_v3\n"
   ]
  },
  {
   "cell_type": "code",
   "execution_count": 22,
   "metadata": {
    "execution": {
     "iopub.execute_input": "2021-11-14T03:01:33.114858Z",
     "iopub.status.busy": "2021-11-14T03:01:33.113773Z",
     "iopub.status.idle": "2021-11-14T03:01:33.120471Z",
     "shell.execute_reply": "2021-11-14T03:01:33.119473Z",
     "shell.execute_reply.started": "2021-11-14T03:01:33.114821Z"
    }
   },
   "outputs": [],
   "source": [
    "# rescale_size = 299\n",
    "# transform = tfs.Compose([\n",
    "#     tfs.Resize((int(rescale_size * 1.25), int(rescale_size * 1.25))),\n",
    "#     tfs.RandomCrop(rescale_size),\n",
    "#     tfs.RandomHorizontalFlip(),\n",
    "#     tfs.ToTensor(),\n",
    "#     tfs.Normalize(imagenet_mean, imagenet_std)\n",
    "# ])\n",
    "\n",
    "# dataset_full = torchvision.datasets.ImageFolder(root=input_dir, transform=transform)\n",
    "\n",
    "# # split full dataset\n",
    "# train_idx, valid_idx = train_test_split(list(range(len(dataset_full))), train_size=0.8)\n",
    "# dataset = {\n",
    "#     'train': torch.utils.data.Subset(dataset_full, train_idx),\n",
    "#     'valid': torch.utils.data.Subset(dataset_full, valid_idx)\n",
    "# }\n",
    "\n",
    "# dataset_size = {ds: len(dataset[ds]) for ds in ['train', 'valid']}\n",
    "# dataset_classes = np.array(dataset_full.classes)\n",
    "\n",
    "# dataloader = {\n",
    "#     'train': torch.utils.data.DataLoader(\n",
    "#         dataset=dataset['train'], batch_size=batch_size, shuffle=True, num_workers=2\n",
    "#     ),\n",
    "#     'valid': torch.utils.data.DataLoader(\n",
    "#         dataset=dataset['valid'], batch_size=batch_size, shuffle=False, num_workers=2\n",
    "#     ),\n",
    "# }"
   ]
  },
  {
   "cell_type": "code",
   "execution_count": 23,
   "metadata": {
    "execution": {
     "iopub.execute_input": "2021-11-14T03:01:33.122537Z",
     "iopub.status.busy": "2021-11-14T03:01:33.121991Z",
     "iopub.status.idle": "2021-11-14T03:01:33.127148Z",
     "shell.execute_reply": "2021-11-14T03:01:33.126191Z",
     "shell.execute_reply.started": "2021-11-14T03:01:33.122465Z"
    }
   },
   "outputs": [],
   "source": [
    "# model_inc_v3 = torchvision.models.inception_v3(pretrained=True)"
   ]
  },
  {
   "cell_type": "code",
   "execution_count": 24,
   "metadata": {
    "execution": {
     "iopub.execute_input": "2021-11-14T03:01:33.129386Z",
     "iopub.status.busy": "2021-11-14T03:01:33.128830Z",
     "iopub.status.idle": "2021-11-14T03:01:33.134471Z",
     "shell.execute_reply": "2021-11-14T03:01:33.133746Z",
     "shell.execute_reply.started": "2021-11-14T03:01:33.129350Z"
    }
   },
   "outputs": [],
   "source": [
    "# num_out_features = len(dataset_full.classes)\n",
    "# model_inc_v3.fc = nn.Linear(in_features=2048, out_features=num_out_features, bias=True)\n",
    "# model_inc_v3.AuxLogits.fc = nn.Linear(in_features=768, out_features=num_out_features, bias=True)\n",
    "# model_inc_v3.aux_logits = False"
   ]
  },
  {
   "cell_type": "code",
   "execution_count": 25,
   "metadata": {
    "execution": {
     "iopub.execute_input": "2021-11-14T03:01:33.135637Z",
     "iopub.status.busy": "2021-11-14T03:01:33.135441Z",
     "iopub.status.idle": "2021-11-14T03:01:33.143150Z",
     "shell.execute_reply": "2021-11-14T03:01:33.142437Z",
     "shell.execute_reply.started": "2021-11-14T03:01:33.135605Z"
    }
   },
   "outputs": [],
   "source": [
    "# model_inc_v3.to(DEVICE)\n",
    "# loss = torch.nn.CrossEntropyLoss()\n",
    "# optimizer = torch.optim.Adam(model_inc_v3.parameters(), lr=1e-4)\n",
    "# sheduler = torch.optim.lr_scheduler.StepLR(optimizer, step_size=7, gamma=0.1)\n",
    "# model_inc_v3, losses, accuracies = train_model(model_inc_v3, loss, optimizer, sheduler, epochs=16)"
   ]
  },
  {
   "cell_type": "code",
   "execution_count": 26,
   "metadata": {
    "execution": {
     "iopub.execute_input": "2021-11-14T03:01:33.145100Z",
     "iopub.status.busy": "2021-11-14T03:01:33.144589Z",
     "iopub.status.idle": "2021-11-14T03:01:33.151163Z",
     "shell.execute_reply": "2021-11-14T03:01:33.150489Z",
     "shell.execute_reply.started": "2021-11-14T03:01:33.145064Z"
    }
   },
   "outputs": [],
   "source": [
    "# # 10 epochs\n",
    "# show_metrics_all(losses, accuracies)\n",
    "# max(accuracies['valid'])"
   ]
  },
  {
   "cell_type": "code",
   "execution_count": 27,
   "metadata": {
    "execution": {
     "iopub.execute_input": "2021-11-14T03:01:33.153224Z",
     "iopub.status.busy": "2021-11-14T03:01:33.152715Z",
     "iopub.status.idle": "2021-11-14T03:01:33.158449Z",
     "shell.execute_reply": "2021-11-14T03:01:33.157714Z",
     "shell.execute_reply.started": "2021-11-14T03:01:33.153188Z"
    }
   },
   "outputs": [],
   "source": [
    "# torch.save(model_inc_v3.state_dict(), 'Inception_v3_retrain_80percentDS_10epoch.pth')"
   ]
  },
  {
   "cell_type": "markdown",
   "metadata": {},
   "source": [
    "# ResNet"
   ]
  },
  {
   "cell_type": "code",
   "execution_count": 28,
   "metadata": {
    "execution": {
     "iopub.execute_input": "2021-11-14T03:01:33.161650Z",
     "iopub.status.busy": "2021-11-14T03:01:33.160951Z",
     "iopub.status.idle": "2021-11-14T03:01:33.165643Z",
     "shell.execute_reply": "2021-11-14T03:01:33.164918Z",
     "shell.execute_reply.started": "2021-11-14T03:01:33.161612Z"
    }
   },
   "outputs": [],
   "source": [
    "# model_resnet50 = torchvision.models.resnet50(pretrained=True)"
   ]
  },
  {
   "cell_type": "code",
   "execution_count": 29,
   "metadata": {
    "execution": {
     "iopub.execute_input": "2021-11-14T03:01:33.167681Z",
     "iopub.status.busy": "2021-11-14T03:01:33.167192Z",
     "iopub.status.idle": "2021-11-14T03:01:33.172728Z",
     "shell.execute_reply": "2021-11-14T03:01:33.171977Z",
     "shell.execute_reply.started": "2021-11-14T03:01:33.167644Z"
    }
   },
   "outputs": [],
   "source": [
    "# model_resnet50"
   ]
  },
  {
   "cell_type": "code",
   "execution_count": 30,
   "metadata": {
    "execution": {
     "iopub.execute_input": "2021-11-14T03:01:33.174671Z",
     "iopub.status.busy": "2021-11-14T03:01:33.174216Z",
     "iopub.status.idle": "2021-11-14T03:01:33.179826Z",
     "shell.execute_reply": "2021-11-14T03:01:33.179051Z",
     "shell.execute_reply.started": "2021-11-14T03:01:33.174636Z"
    }
   },
   "outputs": [],
   "source": [
    "# # for param in model_resnet50.parameters():\n",
    "# #     param.requires_grad = False\n",
    "# num_in_features = model_resnet50.fc.in_features\n",
    "# num_out_features = len(dataset_full.classes)\n",
    "# model_resnet50.fc = nn.Linear(in_features=num_in_features, out_features=num_out_features, bias=True)"
   ]
  },
  {
   "cell_type": "code",
   "execution_count": 31,
   "metadata": {
    "execution": {
     "iopub.execute_input": "2021-11-14T03:01:33.181796Z",
     "iopub.status.busy": "2021-11-14T03:01:33.181180Z",
     "iopub.status.idle": "2021-11-14T03:01:33.187268Z",
     "shell.execute_reply": "2021-11-14T03:01:33.186523Z",
     "shell.execute_reply.started": "2021-11-14T03:01:33.181712Z"
    }
   },
   "outputs": [],
   "source": [
    "# model_resnet50.to(DEVICE)\n",
    "# loss = torch.nn.CrossEntropyLoss()\n",
    "# optimizer = torch.optim.Adam(model_resnet50.parameters(), lr=1e-4)\n",
    "# sheduler = torch.optim.lr_scheduler.StepLR(optimizer, step_size=7, gamma=0.1)\n",
    "# model_resnet50, losses, accuracies = train_model(model_resnet50, loss, optimizer, sheduler, epochs=20)"
   ]
  },
  {
   "cell_type": "code",
   "execution_count": 32,
   "metadata": {
    "execution": {
     "iopub.execute_input": "2021-11-14T03:01:33.189234Z",
     "iopub.status.busy": "2021-11-14T03:01:33.188718Z",
     "iopub.status.idle": "2021-11-14T03:01:33.194265Z",
     "shell.execute_reply": "2021-11-14T03:01:33.193330Z",
     "shell.execute_reply.started": "2021-11-14T03:01:33.189180Z"
    }
   },
   "outputs": [],
   "source": [
    "# torch.save(model_resnet50.state_dict(), 'Resnet50_retrain_80percentDS_20epoch_0.9838.pth')"
   ]
  },
  {
   "cell_type": "code",
   "execution_count": 33,
   "metadata": {
    "execution": {
     "iopub.execute_input": "2021-11-14T03:01:33.196522Z",
     "iopub.status.busy": "2021-11-14T03:01:33.195976Z",
     "iopub.status.idle": "2021-11-14T03:01:33.201569Z",
     "shell.execute_reply": "2021-11-14T03:01:33.200798Z",
     "shell.execute_reply.started": "2021-11-14T03:01:33.196484Z"
    }
   },
   "outputs": [],
   "source": [
    "# # 20 epochs\n",
    "# show_metrics_all(losses, accuracies)\n",
    "# max(accuracies['valid'])"
   ]
  },
  {
   "cell_type": "code",
   "execution_count": 34,
   "metadata": {
    "execution": {
     "iopub.execute_input": "2021-11-14T03:01:33.203438Z",
     "iopub.status.busy": "2021-11-14T03:01:33.202955Z",
     "iopub.status.idle": "2021-11-14T03:01:33.208554Z",
     "shell.execute_reply": "2021-11-14T03:01:33.207754Z",
     "shell.execute_reply.started": "2021-11-14T03:01:33.203382Z"
    }
   },
   "outputs": [],
   "source": [
    "# predict_to_submission(model_resnet50)"
   ]
  },
  {
   "cell_type": "code",
   "execution_count": 35,
   "metadata": {
    "execution": {
     "iopub.execute_input": "2021-11-14T03:01:33.210539Z",
     "iopub.status.busy": "2021-11-14T03:01:33.210036Z",
     "iopub.status.idle": "2021-11-14T03:01:34.356506Z",
     "shell.execute_reply": "2021-11-14T03:01:34.355679Z",
     "shell.execute_reply.started": "2021-11-14T03:01:33.210505Z"
    }
   },
   "outputs": [],
   "source": [
    "model_resnet152 = torchvision.models.resnet152(pretrained=True)\n",
    "# model_resnet152"
   ]
  },
  {
   "cell_type": "code",
   "execution_count": 36,
   "metadata": {
    "execution": {
     "iopub.execute_input": "2021-11-14T03:01:34.358104Z",
     "iopub.status.busy": "2021-11-14T03:01:34.357859Z",
     "iopub.status.idle": "2021-11-14T03:07:08.043955Z",
     "shell.execute_reply": "2021-11-14T03:07:08.043045Z",
     "shell.execute_reply.started": "2021-11-14T03:01:34.358069Z"
    }
   },
   "outputs": [
    {
     "data": {
      "application/vnd.jupyter.widget-view+json": {
       "model_id": "101b82be5a9d4072b743e54e5d92e0c9",
       "version_major": 2,
       "version_minor": 0
      },
      "text/plain": [
       "Epoch::   0%|          | 0/1 [00:00<?, ?it/s]"
      ]
     },
     "metadata": {},
     "output_type": "display_data"
    },
    {
     "data": {
      "application/vnd.jupyter.widget-view+json": {
       "model_id": "f831cfecdda14350ba40bf6df34b0818",
       "version_major": 2,
       "version_minor": 0
      },
      "text/plain": [
       "Phase train::   0%|          | 0/524 [00:00<?, ?it/s]"
      ]
     },
     "metadata": {},
     "output_type": "display_data"
    },
    {
     "data": {
      "application/vnd.jupyter.widget-view+json": {
       "model_id": "f8aed3deac2f444cace9fb1809242c71",
       "version_major": 2,
       "version_minor": 0
      },
      "text/plain": [
       "Phase valid::   0%|          | 0/131 [00:00<?, ?it/s]"
      ]
     },
     "metadata": {},
     "output_type": "display_data"
    },
    {
     "data": {
      "image/png": "[encoded data removed]",
      "text/plain": [
       "<Figure size 1440x576 with 2 Axes>"
      ]
     },
     "metadata": {
      "needs_background": "light"
     },
     "output_type": "display_data"
    },
    {
     "data": {
      "application/vnd.jupyter.widget-view+json": {
       "model_id": "a2b54d4f056a4bada00c560d568b4d3c",
       "version_major": 2,
       "version_minor": 0
      },
      "text/plain": [
       "  0%|          | 0/31 [00:00<?, ?it/s]"
      ]
     },
     "metadata": {},
     "output_type": "display_data"
    },
    {
     "name": "stdout",
     "output_type": "stream",
     "text": [
      "(991, 42)\n"
     ]
    }
   ],
   "source": [
    "num_in_features = model_resnet152.fc.in_features\n",
    "num_out_features = len(dataset_full.classes)\n",
    "model_resnet152.fc = nn.Linear(in_features=num_in_features, out_features=num_out_features, bias=True)\n",
    "model_resnet152.to(DEVICE)\n",
    "loss = torch.nn.CrossEntropyLoss()\n",
    "optimizer = torch.optim.Adam(model_resnet152.parameters(), lr=1e-4)\n",
    "sheduler = torch.optim.lr_scheduler.StepLR(optimizer, step_size=7, gamma=0.1)\n",
    "model_resnet152, losses, accuracies = train_model(model_resnet152, loss, optimizer, sheduler, epochs=20)\n",
    "torch.save(model_resnet152.state_dict(), 'Resnet152_retrain_80percentDS_20epoch_.pth')\n",
    "show_metrics_all(losses, accuracies)\n",
    "max(accuracies['valid'])\n",
    "predict_to_submission(model_resnet152)"
   ]
  },
  {
   "cell_type": "code",
   "execution_count": null,
   "metadata": {},
   "outputs": [],
   "source": []
  }
 ],
 "metadata": {
  "kernelspec": {
   "display_name": "Python 3 (ipykernel)",
   "language": "python",
   "name": "python3"
  },
  "language_info": {
   "codemirror_mode": {
    "name": "ipython",
    "version": 3
   },
   "file_extension": ".py",
   "mimetype": "text/x-python",
   "name": "python",
   "nbconvert_exporter": "python",
   "pygments_lexer": "ipython3",
   "version": "3.7.7"
  }
 },
 "nbformat": 4,
 "nbformat_minor": 4
}
